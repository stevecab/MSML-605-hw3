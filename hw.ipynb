{
 "cells": [
  {
   "cell_type": "code",
   "execution_count": null,
   "metadata": {},
   "outputs": [],
   "source": [
    "from math import sqrt"
   ]
  },
  {
   "cell_type": "code",
   "execution_count": null,
   "metadata": {},
   "outputs": [],
   "source": [
    "## Create a dictionary called critics from critics.csv file.\n",
    "## The keys are the names of the critics, and the values are dictionaries containing\n",
    "## containing the movie names as the keys and the ratings as the values\n",
    "    \n",
    "critics={}"
   ]
  },
  {
   "cell_type": "code",
   "execution_count": null,
   "metadata": {},
   "outputs": [],
   "source": [
    "# Return a distance-based similarity score for two individuals\n",
    "# params: critics dictionary, person 1's name, person 2's name \n",
    "def sim_distance(prefs,person1,person2):\n",
    "    # Get the list of shared items (mutually rated)\n",
    "    si={}\n",
    "    # start code \n",
    "    \n",
    "    \n",
    "    # end code\n",
    "    # if they have no ratings in common, return 0\n",
    "    if len(si) == 0:\n",
    "        return(0)\n",
    "    # Add up the squares of all the differences of the ratings for the shared items\n",
    "    sum_of_squared_difference =                         ### write code here (use list comprehension)\n",
    "    return(1/(1 + sum_of_squared_difference))"
   ]
  },
  {
   "cell_type": "code",
   "execution_count": null,
   "metadata": {},
   "outputs": [],
   "source": [
    "print(sim_distance(critics,'Toby','Jack Matthews'))"
   ]
  },
  {
   "cell_type": "code",
   "execution_count": null,
   "metadata": {},
   "outputs": [],
   "source": [
    "# Returns the Pearson correlation coefficient for two individuals\n",
    "# first parameter is the critics dictionary\n",
    "\n",
    "def sim_pearson(prefs,person1,person2):\n",
    "    # Get the list of mutually rated items\n",
    "    si={}\n",
    "    # start code \n",
    "    \n",
    "    \n",
    "    # end code\n",
    "    # if they have no ratings in common, return 0\n",
    "    if len(si) == 0:\n",
    "        return(0)\n",
    "    \n",
    "    #find the number of common elements\n",
    "    n = len(si)\n",
    "    \n",
    "    #Add up all the ratings for each individual\n",
    "    sum1 =                             # write code for person1\n",
    "    sum2 =                             # write code for person2\n",
    "    \n",
    "    # Sum up the squares of the ratings for each person\n",
    "    sum1Sq =                           # write code for person1\n",
    "    sum2Sq =                           # write code for person2\n",
    "    \n",
    "    # Sum up the products of the ratings for the two individuals \n",
    "    # rating person 1 x rating person 2 for all the common ratings and add it up\n",
    "    pSum =                             # write code here \n",
    "    \n",
    "    #Calculate Pearson score\n",
    "    numerator = pSum - (sum1*sum2/n)\n",
    "    denominator = sqrt((sum1Sq-pow(sum1,2)/n)*(sum2Sq-pow(sum2,2)/n))\n",
    "    \n",
    "    if denominator == 0:\n",
    "        return(0)\n",
    "    \n",
    "    r = numerator/denominator\n",
    "    return(r)\n",
    "    "
   ]
  },
  {
   "cell_type": "code",
   "execution_count": null,
   "metadata": {},
   "outputs": [],
   "source": [
    "print(sim_pearson(critics,'Toby','Jack Matthews'))"
   ]
  },
  {
   "cell_type": "code",
   "execution_count": null,
   "metadata": {},
   "outputs": [],
   "source": [
    "# Return the best matches for person from the critics dictionary\n",
    "# Number of results and similarity function are optional parameters\n",
    "def topMatches(prefs,person,n=5,similarity=sim_pearson):\n",
    "    ## find the similarity scores for the person and every other individual\n",
    "    ## store values in a tuple for the person and other individual\n",
    "    scores = [# write code here]\n",
    "    # sort the list so that the highest scores appear at the top\n",
    "    scores.sort()\n",
    "    scores.reverse()\n",
    "    return(scores[0:n])"
   ]
  },
  {
   "cell_type": "code",
   "execution_count": null,
   "metadata": {},
   "outputs": [],
   "source": [
    "print(topMatches(critics,'Toby'))"
   ]
  },
  {
   "cell_type": "code",
   "execution_count": null,
   "metadata": {},
   "outputs": [],
   "source": [
    "## Get recommendations for a person by using a weighted average\n",
    "## of every other user's rankings\n",
    "def getRecommendations(prefs,person,similarity=sim_pearson):\n",
    "    totals = {}\n",
    "    simSums = {}\n",
    "    for other in prefs:\n",
    "        #don't compare me to myself\n",
    "        if other == person:\n",
    "            continue\n",
    "        sim =                   # write code for similarity here\n",
    "        \n",
    "        #ignore scores of zero or lower\n",
    "        if sim <= 0:\n",
    "            continue\n",
    "        for item in prefs[other]:\n",
    "            #only score movies I haven't seen yet\n",
    "            if item not in prefs[person] or prefs[person][item]==0:\n",
    "                #Similariy * Score\n",
    "                totals.setdefault(item,0)\n",
    "                #  Write code for totals here (1 line)\n",
    "                #Sum of similarities\n",
    "                simSums.setdefault(item,0)\n",
    "                # Write code here to add similarity (1 line)\n",
    "            #create a normalized list\n",
    "        rankings = [(total/simSums[item],item) for item,total in totals.items()]\n",
    "        # return the sorted list\n",
    "        rankings.sort()\n",
    "        rankings.reverse()\n",
    "        return(rankings)"
   ]
  },
  {
   "cell_type": "code",
   "execution_count": null,
   "metadata": {},
   "outputs": [],
   "source": [
    "print(getRecommendations(critics,'Toby'))"
   ]
  },
  {
   "cell_type": "code",
   "execution_count": null,
   "metadata": {},
   "outputs": [],
   "source": [
    "print(getRecommendations(critics,'Jack Matthews'))"
   ]
  },
  {
   "cell_type": "code",
   "execution_count": null,
   "metadata": {},
   "outputs": [],
   "source": []
  }
 ],
 "metadata": {
  "kernelspec": {
   "display_name": "Python 3",
   "language": "python",
   "name": "python3"
  },
  "language_info": {
   "codemirror_mode": {
    "name": "ipython",
    "version": 3
   },
   "file_extension": ".py",
   "mimetype": "text/x-python",
   "name": "python",
   "nbconvert_exporter": "python",
   "pygments_lexer": "ipython3",
   "version": "3.7.4"
  }
 },
 "nbformat": 4,
 "nbformat_minor": 2
}
